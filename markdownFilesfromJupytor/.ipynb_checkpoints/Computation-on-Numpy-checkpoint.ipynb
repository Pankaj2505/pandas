{
 "cells": [
  {
   "cell_type": "markdown",
   "id": "f11f1853",
   "metadata": {},
   "source": [
    "# Here we will learn topics like \n",
    "1. Universal function\n",
    "2. aggreagate function\n",
    "3. Broadcasting\n",
    "\n"
   ]
  },
  {
   "cell_type": "markdown",
   "id": "cb4452ee",
   "metadata": {},
   "source": [
    "## Universal function\n",
    "\n",
    "1. A big difference between python array and numpy array is execution speed.\n",
    "2. python array iterate through each element and then process it.\n",
    "3. numpy array use the concept of vectorized operation, which mean computing all elements of an array parallely\n",
    "\n",
    "> we implement computaion in numpy array using universal function,\"ufunc\"\n",
    "\n",
    "#### Why numpy function are fast\n",
    "> it is beacuse here we use somthing called broadcasting, in broadcasting , first the code is compiled and then executed.This is the main difference between python and numpy , in python the code is compiled at run time, so this will take some time when we are processing a huge data, while in numpy , the huge data is already compiled during creation , so this will save time during execution"
   ]
  },
  {
   "cell_type": "markdown",
   "id": "421339b2",
   "metadata": {},
   "source": [
    "##### compare effectiveness between python array and numpy array"
   ]
  },
  {
   "cell_type": "code",
   "execution_count": 12,
   "id": "835d9cb8",
   "metadata": {},
   "outputs": [
    {
     "name": "stdout",
     "output_type": "stream",
     "text": [
      "3.59 ms ± 121 µs per loop (mean ± std. dev. of 7 runs, 100 loops each)\n",
      "7.41 µs ± 398 ns per loop (mean ± std. dev. of 7 runs, 100000 loops each)\n"
     ]
    }
   ],
   "source": [
    "# we want to find reciprocal of array element\n",
    "import numpy as np\n",
    "np.random.seed(0)\n",
    "\n",
    "\n",
    "\n",
    "def reciprocal (arr):\n",
    "    output = np.empty(len(arr))\n",
    "    for x in range(len(arr)):\n",
    "        output[x] = 1.0/arr[x]\n",
    "    return output\n",
    "\n",
    "\n",
    "array = np.random.randint(5,20, size=500)   \n",
    "%timeit reciprocal(array)\n",
    "\n",
    "\n",
    "# calculating same operation using numpy universal function\n",
    "%timeit 1.0/array"
   ]
  },
  {
   "cell_type": "markdown",
   "id": "d835ba5c",
   "metadata": {},
   "source": [
    "####  Exploring more Ufunc\n",
    "1. arithmatic opeartion are of two type unary and binary\n",
    "2. unary opeartion like (-), ** exponent, % modulas\n"
   ]
  },
  {
   "cell_type": "code",
   "execution_count": 15,
   "id": "7282a4f9",
   "metadata": {},
   "outputs": [
    {
     "name": "stdout",
     "output_type": "stream",
     "text": [
      "x     = [0 1 2 3]\n",
      "x + 5 = [5 6 7 8]\n",
      "x - 5 = [-5 -4 -3 -2]\n",
      "x * 2 = [0 2 4 6]\n",
      "x / 2 = [0.  0.5 1.  1.5]\n",
      "x // 2 = [0 0 1 1]\n",
      "-x     =  [ 0 -1 -2 -3]\n",
      "x ** 2 =  [0 1 4 9]\n",
      "x % 2  =  [0 1 0 1]\n"
     ]
    }
   ],
   "source": [
    "x = np.arange(4)\n",
    "print(\"x     =\", x)\n",
    "print(\"x + 5 =\", x + 5)\n",
    "print(\"x - 5 =\", x - 5)\n",
    "print(\"x * 2 =\", x * 2)\n",
    "print(\"x / 2 =\", x / 2)\n",
    "print(\"x // 2 =\", x // 2)  # floor division\n",
    "\n",
    "print(\"-x     = \", -x)\n",
    "print(\"x ** 2 = \", x ** 2)  #power\n",
    "print(\"x % 2  = \", x % 2)  # reminder"
   ]
  },
  {
   "cell_type": "code",
   "execution_count": 20,
   "id": "1515f3b0",
   "metadata": {},
   "outputs": [
    {
     "name": "stdout",
     "output_type": "stream",
     "text": [
      "y [-10  -9  -8  -7  -6]\n",
      "python absolute function abs [10  9  8  7  6]\n",
      "numpy absolute function absolute [10  9  8  7  6]\n"
     ]
    }
   ],
   "source": [
    "y = np.arange(-10,-5)\n",
    "print('y',y)\n",
    "print(\"python absolute function abs\",np.abs(y) )\n",
    "print('numpy absolute function absolute', np.absolute(y))"
   ]
  },
  {
   "cell_type": "code",
   "execution_count": 21,
   "id": "a0359647",
   "metadata": {},
   "outputs": [
    {
     "name": "stdout",
     "output_type": "stream",
     "text": [
      "x     = [1, 2, 3]\n",
      "e^x   = [ 2.71828183  7.3890561  20.08553692]\n",
      "2^x   = [2. 4. 8.]\n",
      "3^x   = [ 3  9 27]\n",
      "x        = [1, 2, 4, 10]\n",
      "ln(x)    = [0.         0.69314718 1.38629436 2.30258509]\n",
      "log2(x)  = [0.         1.         2.         3.32192809]\n",
      "log10(x) = [0.         0.30103    0.60205999 1.        ]\n"
     ]
    }
   ],
   "source": [
    "x = [1, 2, 3]\n",
    "print(\"x     =\", x)\n",
    "print(\"e^x   =\", np.exp(x))\n",
    "print(\"2^x   =\", np.exp2(x))\n",
    "print(\"3^x   =\", np.power(3, x))\n",
    "\n",
    "\n",
    "x = [1, 2, 4, 10]\n",
    "print(\"x        =\", x)\n",
    "print(\"ln(x)    =\", np.log(x))\n",
    "print(\"log2(x)  =\", np.log2(x))\n",
    "print(\"log10(x) =\", np.log10(x))"
   ]
  },
  {
   "cell_type": "markdown",
   "id": "448bf0e9",
   "metadata": {},
   "source": [
    "#### some more operation\n",
    ">  calling reduce on the add ufunc returns the sum of all elements in the array:  \n",
    "Specifying output"
   ]
  },
  {
   "cell_type": "code",
   "execution_count": 25,
   "id": "d6a1bbc9",
   "metadata": {},
   "outputs": [
    {
     "name": "stdout",
     "output_type": "stream",
     "text": [
      "[ 0. 10. 20. 30. 40.]\n",
      "120\n",
      "[  1   2   6  24 120]\n"
     ]
    }
   ],
   "source": [
    "##### Specifying output\n",
    "x = np.arange(5)\n",
    "y = np.empty(5)\n",
    "np.multiply(x, 10, out=y)\n",
    "print(y)\n",
    "\n",
    "\n",
    "x = [1,2,3,4,5]\n",
    "print(np.multiply.reduce(x))\n",
    "print(np.multiply.accumulate(x))"
   ]
  },
  {
   "cell_type": "markdown",
   "id": "aa84b63e",
   "metadata": {},
   "source": [
    "## Aggregation in Numpy\n",
    "1. sum() and np.sum() and np.nansum()\n",
    "2. remember np.sum() take cares of multidimensionality also . so never use python sum() with multidimensional array \n"
   ]
  },
  {
   "cell_type": "code",
   "execution_count": 26,
   "id": "57869d64",
   "metadata": {},
   "outputs": [
    {
     "name": "stdout",
     "output_type": "stream",
     "text": [
      "264 ms ± 15 ms per loop (mean ± std. dev. of 7 runs, 1 loop each)\n",
      "2.52 ms ± 198 µs per loop (mean ± std. dev. of 7 runs, 100 loops each)\n"
     ]
    }
   ],
   "source": [
    "big_array = np.random.rand(1000000)\n",
    "%timeit sum(big_array)\n",
    "%timeit np.sum(big_array)"
   ]
  },
  {
   "cell_type": "markdown",
   "id": "9cf92997",
   "metadata": {},
   "source": [
    "\n",
    "| Function Name        |     \tNaN-safe Version      |        Description |\n",
    "-----------------------|------------------------------|--------------------|\n",
    "|np.sum |\tnp.nansum |\tCompute sum of elements|\n",
    "|np.prod\t| np.nanprod\t| Compute product of elements|  \n",
    "|np.mean\t|np.nanmean|\tCompute mean of elements|\n",
    "|p.std|\tnp.nanstd|\tCompute standard deviation|\n",
    "|np.var|\tnp.nanvar|\tCompute variance|\n",
    "|np.min|\tnp.nanmin|\tFind minimum value|\n",
    "|np.max|\tnp.nanmax|\tFind maximum value|\n",
    "|np.argmin|\tnp.nanargmin|\tFind index of minimum value|\n",
    "|np.argmax|\tnp.nanargmax|\tFind index of maximum value|\n",
    "|np.median|\tnp.nanmedian|\tCompute median of elements|\n",
    "|np.percentile|\tnp.nanpercentile|\tCompute rank-based statistics of elements|\n",
    "|np.any|\tN/A|\tEvaluate whether any elements are true|\n",
    "|np.all|\tN/A|\tEvaluate whether all elements are true|\n"
   ]
  },
  {
   "cell_type": "markdown",
   "id": "4b697c54",
   "metadata": {},
   "source": [
    "# BroadCasting\n"
   ]
  },
  {
   "cell_type": "markdown",
   "id": "d80dd63e",
   "metadata": {},
   "source": [
    "#### Rules of Broadcasting\n",
    "Broadcasting in NumPy follows a strict set of rules to determine the interaction between the two arrays:\n",
    "\n",
    "- Rule 1: If the two arrays differ in their number of dimensions, the shape of the one with fewer dimensions is padded with ones on its leading (left) side.\n",
    "- Rule 2: If the shape of the two arrays does not match in any dimension, the array with shape equal to 1 in that dimension is stretched to match the other shape.\n",
    "- Rule 3: If in any dimension the sizes disagree and neither is equal to 1, an error is raised."
   ]
  },
  {
   "cell_type": "markdown",
   "id": "7a5bf7e6",
   "metadata": {},
   "source": [
    "M = np.ones((2, 3))  \n",
    "a = np.arange(3)  \n",
    "- Let's consider an operation on these two arrays. The shape of the arrays are\n",
    "\n",
    "M.shape = (2, 3)  \n",
    "a.shape = (3,)  \n",
    "- We see by rule 1 that the array a has fewer dimensions, so we pad it on the left with ones:\n",
    "\n",
    "M.shape -> (2, 3)  \n",
    "a.shape -> (1, 3)  \n",
    "- By rule 2, we now see that the first dimension disagrees, so we stretch this dimension to match:\n",
    "\n",
    "M.shape -> (2, 3)  \n",
    "a.shape -> (2, 3)  \n",
    "- The shapes match, and we see that the final shape will be (2, 3):"
   ]
  },
  {
   "cell_type": "markdown",
   "id": "5dc649ce",
   "metadata": {},
   "source": [
    "M = np.ones((3, 2))  \n",
    "a = np.arange(3)  \n",
    "- This is just a slightly different situation than in the first example: the matrix M is transposed. How does this affect the calculation? The shape of the arrays are\n",
    "\n",
    "M.shape = (3, 2)  \n",
    "a.shape = (3,)  \n",
    "- Again, rule 1 tells us that we must pad the shape of a with ones:\n",
    "\n",
    "M.shape -> (3, 2)  \n",
    "a.shape -> (1, 3)  \n",
    "- By rule 2, the first dimension of a is stretched to match that of M:\n",
    "\n",
    "M.shape -> (3, 2)  \n",
    "a.shape -> (3, 3)  \n",
    "- Now we hit rule 3–the final shapes do not match, so these two arrays are incompatible, as we can observe by attempting this operation:"
   ]
  },
  {
   "cell_type": "markdown",
   "id": "a70d71f3",
   "metadata": {},
   "source": [
    "#### Practice of broadcasting\n"
   ]
  },
  {
   "cell_type": "code",
   "execution_count": 49,
   "id": "c937b418",
   "metadata": {},
   "outputs": [
    {
     "name": "stdout",
     "output_type": "stream",
     "text": [
      "[0.4368809  0.58307355 0.53017212]\n",
      "[ 0.00000000e+00 -4.44089210e-17  2.22044605e-17]\n"
     ]
    }
   ],
   "source": [
    "#Lets say we have 10 sample which measure three hight of three flower, so we need an array of 10 rows and 3 column\n",
    "\n",
    "#x = np.random.randint(1,50,size=30).reshape(10,3)\n",
    "x= np.random.random((10,3))\n",
    "#print(x)\n",
    "\n",
    "# to know the mean hight of each flower\n",
    "y= np.empty(3)\n",
    "np.mean(x,axis =0,out=y)  # axis zero mean row wise sum\n",
    "print(y)\n",
    "\n",
    "# to verify if mean is correct, we all know sum of( mean-point ) is always 0 when all point are between 0,1\n",
    "\n",
    "xcentered= x-y\n",
    "print(xcentered.mean(0))"
   ]
  },
  {
   "cell_type": "code",
   "execution_count": null,
   "id": "43543a1b",
   "metadata": {},
   "outputs": [],
   "source": []
  }
 ],
 "metadata": {
  "kernelspec": {
   "display_name": "Python 3",
   "language": "python",
   "name": "python3"
  },
  "language_info": {
   "codemirror_mode": {
    "name": "ipython",
    "version": 3
   },
   "file_extension": ".py",
   "mimetype": "text/x-python",
   "name": "python",
   "nbconvert_exporter": "python",
   "pygments_lexer": "ipython3",
   "version": "3.8.8"
  }
 },
 "nbformat": 4,
 "nbformat_minor": 5
}
