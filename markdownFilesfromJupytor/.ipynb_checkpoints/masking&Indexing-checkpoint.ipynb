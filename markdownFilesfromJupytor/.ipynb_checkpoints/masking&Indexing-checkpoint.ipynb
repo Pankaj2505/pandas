{
 "cells": [
  {
   "cell_type": "markdown",
   "id": "31b1e72c",
   "metadata": {},
   "source": [
    "## Masking and indexing"
   ]
  },
  {
   "cell_type": "markdown",
   "id": "50fdcb3a",
   "metadata": {},
   "source": [
    "__Masking__  \n",
    "1. it means manipulating(extract/modify/count) values of array based on some criteria\n",
    "2. you want to remove all outlier\n",
    "3. count values greater than some value\n",
    "  \n",
    "\n",
    "__Ufunc__\n",
    "1. fast element wise arithmetic operation\n",
    "2. element wise comparision over arrays"
   ]
  },
  {
   "cell_type": "code",
   "execution_count": 7,
   "id": "891513fb",
   "metadata": {},
   "outputs": [],
   "source": [
    "import numpy as np\n",
    "np.random.seed(0)"
   ]
  },
  {
   "cell_type": "code",
   "execution_count": 8,
   "id": "16b99545",
   "metadata": {},
   "outputs": [
    {
     "name": "stdout",
     "output_type": "stream",
     "text": [
      "[23 16 11 14 22]\n"
     ]
    }
   ],
   "source": [
    "# Comparision operator as ufunc\n",
    "# >\n",
    "# <\n",
    "# >=\n",
    "# <=\n",
    "# !=\n",
    "# ==\n",
    "\n",
    "x = np.random.randint(11,25,size=5)\n",
    "print(x)"
   ]
  },
  {
   "cell_type": "code",
   "execution_count": 17,
   "id": "7b53db5e",
   "metadata": {},
   "outputs": [
    {
     "name": "stdout",
     "output_type": "stream",
     "text": [
      "[[False False False False]\n",
      " [False False False False]\n",
      " [False False False False]]\n",
      "\n",
      "[[18  3 17 19]\n",
      " [19 19 14  7]\n",
      " [ 0  1  9  0]]\n",
      "\n",
      "[[ True False  True  True]\n",
      " [ True  True  True False]\n",
      " [False False False False]]\n"
     ]
    }
   ],
   "source": [
    "# in simple python to find all the element greater than 20 we need to loop over it , but in numoy we can use ufunc\n",
    "print(x>20)\n",
    "print()\n",
    "# this comparision will work with any dimension of array\n",
    "x = np.random.randint(20, size=(3,4))\n",
    "print(x)\n",
    "print()\n",
    "print(x>10)"
   ]
  },
  {
   "cell_type": "markdown",
   "id": "b4488180",
   "metadata": {},
   "source": [
    "### Remark\n",
    "1. here first broadcasting is happening\n",
    "2. then element wise array comaprision is happening  \n",
    "\n",
    "__Rule of broadcasting__\n",
    "   - Rule 1: If the two arrays differ in their number of dimensions, the shape of the one with fewer dimensions is padded with ones on its leading (left) side.\n",
    "   - Rule 2: If the shape of the two arrays does not match in any dimension, the array with shape equal to 1 in that dimension is stretched to match the other shape.\n",
    "   - Rule 3: If in any dimension the sizes disagree and neither is equal to 1, an error is raised.\n",
    "\n",
    "4. [1]--->[1,1]---->[3,4]\n",
    "now perform element wise comparision"
   ]
  },
  {
   "cell_type": "code",
   "execution_count": 13,
   "id": "62422a45",
   "metadata": {},
   "outputs": [
    {
     "data": {
      "text/plain": [
       "array([False, False,  True, False,  True])"
      ]
     },
     "execution_count": 13,
     "metadata": {},
     "output_type": "execute_result"
    }
   ],
   "source": [
    "# we can do element wise comparision of two array\n",
    "# here it is must you have same dimension\n",
    "np.array([1,2,3,4,5]) == np.array([2,12,3,14,5])"
   ]
  },
  {
   "cell_type": "markdown",
   "id": "b43c6887",
   "metadata": {},
   "source": [
    "### Working with Boolean array\n",
    "1. array([False, False,  True, False,  True])\n",
    "\n",
    "  - np.sum(), np.any(), and np.all() are differnet from sum(), any(), all() as they cant to parallel processing\n",
    "2. to count use np.sum(operation, axis)\n",
    "3. checking whether any or all the values are true, np.any or np.all:"
   ]
  },
  {
   "cell_type": "code",
   "execution_count": 34,
   "id": "2038256b",
   "metadata": {},
   "outputs": [
    {
     "name": "stdout",
     "output_type": "stream",
     "text": [
      "[False False False  True  True  True  True]\n",
      "4\n",
      "\n",
      "4\n"
     ]
    }
   ],
   "source": [
    "# Count entries\n",
    "    # how many no are greater than 5\n",
    "# dir(np.random)\n",
    "x = np.array([1,2,3,4,5,6,12])\n",
    "y= x>3\n",
    "print(y)\n",
    "\n",
    "print(np.sum(y))\n",
    "print()\n",
    "print(np.count_nonzero(x>3))\n"
   ]
  },
  {
   "cell_type": "code",
   "execution_count": 37,
   "id": "8e3cb632",
   "metadata": {},
   "outputs": [
    {
     "name": "stdout",
     "output_type": "stream",
     "text": [
      "True\n",
      "True\n",
      "False\n"
     ]
    }
   ],
   "source": [
    "# are there any value greater than 5\n",
    "print(np.any(x>6))\n",
    "print(np.all(x<15))\n",
    "print(np.all(x<10))"
   ]
  },
  {
   "cell_type": "markdown",
   "id": "e694c753",
   "metadata": {},
   "source": [
    "### Working with Bitwise operator\n",
    "1.  Python's bitwise logic operators, &, |, ^, and ~."
   ]
  },
  {
   "cell_type": "code",
   "execution_count": 48,
   "id": "33183ce0",
   "metadata": {},
   "outputs": [
    {
     "name": "stdout",
     "output_type": "stream",
     "text": [
      "[0 1 2 3 4 5 6 7 8 9]\n",
      "[False False False  True  True  True  True False False False]\n",
      "4\n"
     ]
    }
   ],
   "source": [
    "x = np.array(np.arange(10))\n",
    "print(x)\n",
    "print((x>2) & (x<7))\n",
    "print(np.sum((x>2) & (x<7)))"
   ]
  },
  {
   "cell_type": "code",
   "execution_count": 46,
   "id": "cd622ea8",
   "metadata": {},
   "outputs": [
    {
     "data": {
      "text/plain": [
       "array([0, 1, 2, 3, 4])"
      ]
     },
     "execution_count": 46,
     "metadata": {},
     "output_type": "execute_result"
    }
   ],
   "source": [
    "x[x < 5]"
   ]
  },
  {
   "cell_type": "markdown",
   "id": "aa494fe1",
   "metadata": {},
   "source": [
    "bit wise operator  \n",
    "    - &\tnp.bitwise_and\t \n",
    "    - |\tnp.bitwise_or  \n",
    "    - ^\tnp.bitwise_xor\t  \n",
    "    - ~\tnp.bitwise_not "
   ]
  },
  {
   "cell_type": "markdown",
   "id": "74246eda",
   "metadata": {},
   "source": [
    "# Fancy Indexing\n",
    "1. Access multiple arraay element at once .print(x[[3,7,2]])\n",
    "2. Combined Indexing X[2, [2, 0, 1]]"
   ]
  },
  {
   "cell_type": "code",
   "execution_count": 60,
   "id": "8303e308",
   "metadata": {},
   "outputs": [
    {
     "name": "stdout",
     "output_type": "stream",
     "text": [
      "[51 92 14 71 60 20 82 86 74 74]\n",
      "[71, 86, 14]\n",
      "\n",
      "\n",
      "\n",
      "\n",
      "[71 86 14]\n",
      "\n",
      "\n",
      "\n",
      "\n",
      "multidimensional array \n",
      " [[ 0  1  2  3]\n",
      " [ 4  5  6  7]\n",
      " [ 8  9 10 11]]\n",
      "\n",
      "\n",
      "\n",
      "\n",
      "display multiple indexes \n",
      " [ 2  5 11]\n",
      "\n",
      "\n",
      "\n",
      "\n",
      "Combined index\n",
      " [10  8  9]\n"
     ]
    }
   ],
   "source": [
    "# Access multiple array at once\n",
    "\n",
    "import numpy as np\n",
    "rand = np.random.RandomState(42)\n",
    "\n",
    "x = rand.randint(100, size=10)\n",
    "print(x)\n",
    "\n",
    "\n",
    "\n",
    "print([x[3], x[7], x[2]])\n",
    "print('\\n'*3)\n",
    "\n",
    "\n",
    "\n",
    "print(x[[3,7,2]])\n",
    "print('\\n'*3)\n",
    "\n",
    "\n",
    "\n",
    "\n",
    "\n",
    "# it works in multidimension also \n",
    "X = np.arange(12).reshape((3, 4))\n",
    "print('multidimensional array \\n',X)\n",
    "print('\\n'*3)\n",
    "\n",
    "\n",
    "\n",
    "row = np.array([0, 1, 2])\n",
    "col = np.array([2, 1, 3])\n",
    "print('display multiple indexes \\n',X[row, col])\n",
    "print('\\n'*3)\n",
    "\n",
    "\n",
    "\n",
    "print('Combined index\\n',X[2, [2, 0, 1]])"
   ]
  },
  {
   "cell_type": "code",
   "execution_count": null,
   "id": "fbb25f03",
   "metadata": {},
   "outputs": [],
   "source": []
  }
 ],
 "metadata": {
  "kernelspec": {
   "display_name": "Python 3",
   "language": "python",
   "name": "python3"
  },
  "language_info": {
   "codemirror_mode": {
    "name": "ipython",
    "version": 3
   },
   "file_extension": ".py",
   "mimetype": "text/x-python",
   "name": "python",
   "nbconvert_exporter": "python",
   "pygments_lexer": "ipython3",
   "version": "3.8.8"
  }
 },
 "nbformat": 4,
 "nbformat_minor": 5
}
