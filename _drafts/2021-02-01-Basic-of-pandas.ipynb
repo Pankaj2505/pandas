{
 "cells": [
  {
   "cell_type": "markdown",
   "id": "da999446",
   "metadata": {},
   "source": [
    "---\n",
    "layout: post\n",
    "title:  \"Basics of panda\"\n",
    "categories: panda\n",
    "background: '/img/posts/panda/cheetSheet.png'\n",
    "---\n"
   ]
  },
  {
   "cell_type": "markdown",
   "id": "c58b8746",
   "metadata": {},
   "source": [
    "\n",
    "[Taken reference from ](https://jakevdp.github.io/PythonDataScienceHandbook/)\n",
    "<br>\n",
    "<a href=\"\\img\\posts\\numpy\\cheetSheet.pdf\" download>Download CheetSheet</a>\n",
    "\n"
   ]
  },
  {
   "cell_type": "markdown",
   "id": "e941251c",
   "metadata": {},
   "source": [
    "- To display all the content of pandas documantation - pd.<tab>\n",
    "- pandas can be thought enhanced version of numpy \n",
    "- Three pandas data structure\n",
    "    - series\n",
    "    - data frame\n",
    "    - index"
   ]
  },
  {
   "cell_type": "markdown",
   "id": "bcf4e9c6",
   "metadata": {},
   "source": [
    "# Recap of numpy array \n",
    "These included indexing (e.g., arr[2, 1]), slicing (e.g., arr[:, 1:5]), masking (e.g., arr[arr > 0]), fancy indexing (e.g., arr[0, [1, 5]]),"
   ]
  },
  {
   "cell_type": "markdown",
   "id": "06748a17",
   "metadata": {},
   "source": [
    "## Series\n",
    "- Series is one dimensional index array\n",
    "\n",
    "- difference between np array and panda series\n",
    "    - the difference is of index, np has implicit index always in integer . while series can have user defined index.\n",
    "    \n",
    "- Series is like dictionary \n",
    "    as dictionary has key value pair , panda series has index value pair\n",
    "    \n",
    "- syntax\n",
    "    - pd.Series(data, index=index)\n",
    "    \n",
    "- in series , index can be user defined but they will implicity have integer index also , can be used by iloc func\n",
    "\n",
    "    - First, the loc attribute allows indexing and slicing that always references the explicit index:\n",
    "    - The iloc attribute allows indexing and slicing that always references the implicit Python-style index:"
   ]
  },
  {
   "cell_type": "code",
   "execution_count": 50,
   "id": "867f4937",
   "metadata": {},
   "outputs": [
    {
     "name": "stdout",
     "output_type": "stream",
     "text": [
      "a    11\n",
      "b    12\n",
      "c    13\n",
      "d    14\n",
      "e    15\n",
      "dtype: int64\n",
      "<class 'pandas.core.series.Series'>\n"
     ]
    }
   ],
   "source": [
    "import pandas as pd\n",
    "import numpy as np\n",
    "\n",
    "data = pd.Series([11,12,13,14,15], index=['a','b','c','d','e'])\n",
    "print(data)\n",
    "print(type(data))"
   ]
  },
  {
   "cell_type": "code",
   "execution_count": 52,
   "id": "36d52457",
   "metadata": {},
   "outputs": [
    {
     "name": "stdout",
     "output_type": "stream",
     "text": [
      "value of a series \n",
      " [11 12 13 14 15]\n",
      "\n",
      "\n",
      "\n",
      "\n",
      "\n",
      "index of a series \n",
      " Index(['a', 'b', 'c', 'd', 'e'], dtype='object')\n",
      "\n",
      "\n",
      "\n",
      "\n",
      "\n",
      "access data using index \n",
      " 12\n",
      "\n",
      "\n",
      "\n",
      "\n",
      "\n",
      "data slicing \n",
      " b    12\n",
      "c    13\n",
      "d    14\n",
      "e    15\n",
      "dtype: int64\n",
      "a    11\n",
      "b    12\n",
      "c    13\n",
      "dtype: int64\n",
      "a    11\n",
      "b    12\n",
      "dtype: int64\n",
      "d    14\n",
      "e    15\n",
      "dtype: int64\n",
      "a    11\n",
      "e    15\n",
      "dtype: int64\n"
     ]
    }
   ],
   "source": [
    "# how to check value of a series\n",
    "print('value of a series \\n', data.values)\n",
    "\n",
    "print(\"\\n\"*4)\n",
    "\n",
    "# check index of a series\n",
    "print('index of a series \\n',data.index)\n",
    "\n",
    "\n",
    "print(\"\\n\"*4)\n",
    "\n",
    "# accessing data using index\n",
    "print('access data using index \\n',data['b'])\n",
    "\n",
    "\n",
    "print(\"\\n\"*4)\n",
    "\n",
    "# data slicing\n",
    "print('data slicing \\n',data['b':'e'])\n",
    "\n",
    "\n",
    "# slicing by explicit index\n",
    "print(data['a':'c'])\n",
    "\n",
    "\n",
    "# slicing by implicit integer index\n",
    "print(data[0:2])\n",
    "\n",
    "# masking\n",
    "print(data[(data > 13) & (data < 18)])\n",
    "\n",
    "\n",
    "# fancy indexing\n",
    "print(data[['a', 'e']])"
   ]
  },
  {
   "cell_type": "code",
   "execution_count": 61,
   "id": "6ca7c38c",
   "metadata": {},
   "outputs": [
    {
     "name": "stdout",
     "output_type": "stream",
     "text": [
      "a    0.25\n",
      "b    0.50\n",
      "c    0.75\n",
      "d    1.00\n",
      "dtype: float64\n",
      "California    38332521\n",
      "Texas         26448193\n",
      "New York      19651127\n",
      "Florida       19552860\n",
      "Illinois      12882135\n",
      "dtype: int64\n",
      "\n",
      "\n",
      "\n",
      "\n",
      "\n",
      "Index(['California', 'Texas', 'New York', 'Florida', 'Illinois'], dtype='object')\n",
      "data at index california : 38332521\n",
      "\n",
      "\n",
      "\n",
      "\n",
      "\n",
      "data at using slixing \n",
      " Texas       26448193\n",
      "New York    19651127\n",
      "dtype: int64\n"
     ]
    }
   ],
   "source": [
    "# user defind index\n",
    "data = pd.Series([0.25, 0.5, 0.75, 1.0],\n",
    "                 index=['a', 'b', 'c', 'd'])\n",
    "print(data)\n",
    "\n",
    "\n",
    "# a panda series is more like dictionary\n",
    "\n",
    "population_dict = {'California': 38332521,\n",
    "                   'Texas': 26448193,\n",
    "                   'New York': 19651127,\n",
    "                   'Florida': 19552860,\n",
    "                   'Illinois': 12882135}\n",
    "population = pd.Series(population_dict)\n",
    "print(population)\n",
    "\n",
    "\n",
    "print(\"\\n\"*4)\n",
    "\n",
    "print(population.index)\n",
    "# using loc attribute\n",
    "print('data at index california :',population.loc['California'])\n",
    "\n",
    "print(\"\\n\"*4)\n",
    "\n",
    "# using iloc attribute \n",
    "print('data at using slixing \\n',population.iloc[1:3])"
   ]
  },
  {
   "cell_type": "markdown",
   "id": "d0657db4",
   "metadata": {},
   "source": [
    "# Dataframe\n",
    "- If a Series is an analog of a one-dimensional array with flexible indices,\n",
    "- DataFrame as a sequence of aligned Series objects. Here, by \"aligned\" we mean that they share the same index.\n",
    "\n",
    "\n",
    "\n",
    "- Index is immutable\n",
    "\n",
    "\n",
    "- lets say we want to compare two data frame based on some column , we can change them to index and get union and intersection of them using | and ^ operator"
   ]
  },
  {
   "cell_type": "code",
   "execution_count": 19,
   "id": "8dd5574d",
   "metadata": {},
   "outputs": [
    {
     "name": "stdout",
     "output_type": "stream",
     "text": [
      "   population\n",
      "0           2\n",
      "1           3\n",
      "2           7\n",
      "3           1\n",
      "4           4\n"
     ]
    }
   ],
   "source": [
    "#COnstruction from single series object \n",
    "population = pd.Series(np.random.randint(10, size = 5))\n",
    "print(pd.DataFrame(population, columns=['population']))"
   ]
  },
  {
   "cell_type": "code",
   "execution_count": 29,
   "id": "93dbad4e",
   "metadata": {},
   "outputs": [
    {
     "name": "stdout",
     "output_type": "stream",
     "text": [
      "   0  1   2\n",
      "a  7  2  11\n",
      "b  5  6   2\n",
      "c  1  7   5\n",
      "d  5  1   3\n",
      "\n",
      "\n",
      "\n",
      "\n",
      "\n",
      "   col1  col2  col3\n",
      "a     7     2    11\n",
      "b     5     6     2\n",
      "c     1     7     5\n",
      "d     5     1     3\n"
     ]
    }
   ],
   "source": [
    "# Construction of series using two dimensional array \n",
    "\n",
    "arr= np.random.randint(12, size =12).reshape(4,3)\n",
    "x = pd.DataFrame(arr, index= ['a','b','c','d'])\n",
    "print(x)\n",
    "\n",
    "print('\\n'*4)\n",
    "\n",
    "x = pd.DataFrame(arr, index= ['a','b','c','d'], columns = ['col1', 'col2','col3'])\n",
    "print(x)"
   ]
  },
  {
   "cell_type": "code",
   "execution_count": 37,
   "id": "de6b5d57",
   "metadata": {},
   "outputs": [
    {
     "name": "stdout",
     "output_type": "stream",
     "text": [
      "Index(['a', 'b', 'c', 'd'], dtype='object')\n",
      "\n",
      "\n",
      "b\n",
      "\n",
      "\n",
      "4 (4,) 1 object\n"
     ]
    }
   ],
   "source": [
    "# access index \n",
    "ind = x.index\n",
    "print(x.index , end='\\n'*3)\n",
    "\n",
    "print(x.index[1], end='\\n'*3)\n",
    "\n",
    "\n",
    "print(ind.size, ind.shape, ind.ndim, ind.dtype)"
   ]
  },
  {
   "cell_type": "code",
   "execution_count": 38,
   "id": "a0325996",
   "metadata": {},
   "outputs": [
    {
     "ename": "TypeError",
     "evalue": "Index does not support mutable operations",
     "output_type": "error",
     "traceback": [
      "\u001b[1;31m---------------------------------------------------------------------------\u001b[0m",
      "\u001b[1;31mTypeError\u001b[0m                                 Traceback (most recent call last)",
      "\u001b[1;32m<ipython-input-38-906a9fa1424c>\u001b[0m in \u001b[0;36m<module>\u001b[1;34m\u001b[0m\n\u001b[1;32m----> 1\u001b[1;33m \u001b[0mind\u001b[0m\u001b[1;33m[\u001b[0m\u001b[1;36m1\u001b[0m\u001b[1;33m]\u001b[0m \u001b[1;33m=\u001b[0m \u001b[1;36m0\u001b[0m\u001b[1;33m\u001b[0m\u001b[1;33m\u001b[0m\u001b[0m\n\u001b[0m",
      "\u001b[1;32m~\\Anaconda3\\lib\\site-packages\\pandas\\core\\indexes\\base.py\u001b[0m in \u001b[0;36m__setitem__\u001b[1;34m(self, key, value)\u001b[0m\n\u001b[0;32m   4275\u001b[0m     \u001b[1;33m@\u001b[0m\u001b[0mfinal\u001b[0m\u001b[1;33m\u001b[0m\u001b[1;33m\u001b[0m\u001b[0m\n\u001b[0;32m   4276\u001b[0m     \u001b[1;32mdef\u001b[0m \u001b[0m__setitem__\u001b[0m\u001b[1;33m(\u001b[0m\u001b[0mself\u001b[0m\u001b[1;33m,\u001b[0m \u001b[0mkey\u001b[0m\u001b[1;33m,\u001b[0m \u001b[0mvalue\u001b[0m\u001b[1;33m)\u001b[0m\u001b[1;33m:\u001b[0m\u001b[1;33m\u001b[0m\u001b[1;33m\u001b[0m\u001b[0m\n\u001b[1;32m-> 4277\u001b[1;33m         \u001b[1;32mraise\u001b[0m \u001b[0mTypeError\u001b[0m\u001b[1;33m(\u001b[0m\u001b[1;34m\"Index does not support mutable operations\"\u001b[0m\u001b[1;33m)\u001b[0m\u001b[1;33m\u001b[0m\u001b[1;33m\u001b[0m\u001b[0m\n\u001b[0m\u001b[0;32m   4278\u001b[0m \u001b[1;33m\u001b[0m\u001b[0m\n\u001b[0;32m   4279\u001b[0m     \u001b[1;32mdef\u001b[0m \u001b[0m__getitem__\u001b[0m\u001b[1;33m(\u001b[0m\u001b[0mself\u001b[0m\u001b[1;33m,\u001b[0m \u001b[0mkey\u001b[0m\u001b[1;33m)\u001b[0m\u001b[1;33m:\u001b[0m\u001b[1;33m\u001b[0m\u001b[1;33m\u001b[0m\u001b[0m\n",
      "\u001b[1;31mTypeError\u001b[0m: Index does not support mutable operations"
     ]
    }
   ],
   "source": [
    "ind[1] = 0"
   ]
  },
  {
   "cell_type": "code",
   "execution_count": null,
   "id": "3a6dc3a7",
   "metadata": {},
   "outputs": [],
   "source": []
  }
 ],
 "metadata": {
  "kernelspec": {
   "display_name": "Python 3",
   "language": "python",
   "name": "python3"
  },
  "language_info": {
   "codemirror_mode": {
    "name": "ipython",
    "version": 3
   },
   "file_extension": ".py",
   "mimetype": "text/x-python",
   "name": "python",
   "nbconvert_exporter": "python",
   "pygments_lexer": "ipython3",
   "version": "3.8.8"
  }
 },
 "nbformat": 4,
 "nbformat_minor": 5
}
