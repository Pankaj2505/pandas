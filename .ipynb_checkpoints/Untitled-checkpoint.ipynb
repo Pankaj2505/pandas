{
 "cells": [
  {
   "cell_type": "markdown",
   "id": "99554f44",
   "metadata": {},
   "source": [
    " # [Basics of Numpy array](https://jakevdp.github.io/PythonDataScienceHandbook/)"
   ]
  },
  {
   "cell_type": "markdown",
   "id": "409c8084",
   "metadata": {},
   "source": [
    "## Data Type\n",
    "\n",
    "1. python data type are objects\n",
    "2. these objects holds below information"
   ]
  },
  {
   "cell_type": "code",
   "execution_count": null,
   "id": "2e976a3f",
   "metadata": {},
   "outputs": [],
   "source": [
    "struct _longobject {\n",
    "    long ob_refcnt;\n",
    "    PyTypeObject *ob_type;\n",
    "    size_t ob_size;\n",
    "    long ob_digit[1];\n",
    "};"
   ]
  },
  {
   "cell_type": "markdown",
   "id": "9360abbd",
   "metadata": {},
   "source": [
    "## Numpy Array Attributes\n",
    "> Determining the size, shape, memory consumption, and data types of arrays\n",
    "\n"
   ]
  },
  {
   "cell_type": "markdown",
   "id": "70386b48",
   "metadata": {},
   "source": [
    "### Define array"
   ]
  },
  {
   "cell_type": "code",
   "execution_count": 67,
   "id": "850cfc05",
   "metadata": {},
   "outputs": [
    {
     "name": "stdout",
     "output_type": "stream",
     "text": [
      "[5 0 3 3 7 9]\n",
      "------------------------------\n",
      "\n",
      "\n",
      "[[ 3  5  2  4]\n",
      " [ 7  6  8  8]\n",
      " [10  1  6  7]]\n",
      "------------------------------\n",
      "\n",
      "\n",
      "[[[23 14]\n",
      "  [17  5]\n",
      "  [13  8]\n",
      "  [ 9 20]]\n",
      "\n",
      " [[19 16]\n",
      "  [19  5]\n",
      "  [15 15]\n",
      "  [ 0 18]]\n",
      "\n",
      " [[ 3 17]\n",
      "  [19 19]\n",
      "  [19 14]\n",
      "  [ 7  0]]]\n",
      "------------------------------\n",
      "\n",
      "\n",
      "['a', 'b', 'c']\n"
     ]
    }
   ],
   "source": [
    "\n",
    "\n",
    "import numpy as np\n",
    "\n",
    "np.random.seed(0)\n",
    "\n",
    "x1 = np.random.randint(10 , size = 6) # one Dimensional array\n",
    "x2 = np.random.randint(12, size=(3,4)) # two dimensional array\n",
    "x3 = np.random.randint(24, size= (3,4,2)) # three dimensional array\n",
    "\n",
    "x4 = ['a','b','c'] # this is a list\n",
    "x5 = np.array(['a','b','c']) # array with other data type\n",
    "print(x1)\n",
    "print('-'*30, end='\\n'*3)\n",
    "\n",
    "\n",
    "print(x2)\n",
    "print('-'*30, end='\\n'*3)\n",
    "\n",
    "print(x3)\n",
    "print('-'*30, end='\\n'*3)\n",
    "\n",
    "print(x4)"
   ]
  },
  {
   "cell_type": "markdown",
   "id": "817c84fb",
   "metadata": {},
   "source": [
    "__Note__\n",
    "1. Each array has attributes \n",
    "   - ndim (the number of dimensions), \n",
    "   - shape (the size of each dimension),\n",
    "   - size (the total size of the array),\n",
    "   - dtype (datatype of the array),\n",
    "   - itemsize(size of each item of an array),\n",
    "   - nbytes(size of an array in bytes)."
   ]
  },
  {
   "cell_type": "code",
   "execution_count": 9,
   "id": "874ecbc9",
   "metadata": {},
   "outputs": [
    {
     "name": "stdout",
     "output_type": "stream",
     "text": [
      "x3 dimension 3\n",
      "x3 shape (3, 4, 2)\n",
      "x3 size 24\n",
      "x3 datatype int32\n",
      "size of each element of array x3 in bytes 4\n",
      "size of complete array x3 in bytes 96\n"
     ]
    }
   ],
   "source": [
    "print('x3 dimension', x3.ndim)\n",
    "print('x3 shape', x3.shape)\n",
    "print('x3 size', x3.size)\n",
    "print('x3 datatype', x3.dtype)\n",
    "print('size of each element of array x3 in bytes', x3.itemsize)\n",
    "print('size of complete array x3 in bytes', x3.nbytes)"
   ]
  },
  {
   "cell_type": "markdown",
   "id": "75f13628",
   "metadata": {},
   "source": [
    "### Array Indexing : Accessing element of an array\n",
    "\n",
    "1. indexing from begin start with 0\n",
    "2. indexing from last we can use negative indices\n",
    "3. In a multi-dimensional array, items can be accessed using a comma-separated tuple of indices:\n",
    "4. numpy array are mutable\n",
    "5. list can take many data type but numpy array has fixed datatype"
   ]
  },
  {
   "cell_type": "code",
   "execution_count": 18,
   "id": "a3825dea",
   "metadata": {},
   "outputs": [
    {
     "name": "stdout",
     "output_type": "stream",
     "text": [
      "first item of x1 :  5\n",
      "last item of x1 :  9\n",
      "1st row and 2nd column of x2 :  25\n",
      "1st row and 2nd column of x2 :  15\n",
      "1st row and 2nd column of x2 :  25\n",
      "this will thrw ValueError: invalid literal for int() with base 10: 'panakj'\n"
     ]
    }
   ],
   "source": [
    "# index from begin\n",
    "print(\"first item of x1 : \",x1[0])\n",
    "\n",
    "# now i dont know the length of the array and i want to access last item\n",
    "print(\"last item of x1 : \",x1[-1])\n",
    "\n",
    "# how to access multidimensional array\n",
    "print(\"1st row and 2nd column of x2 : \", x2[0,1]) # row and column couting starts with 0\n",
    "\n",
    "# updating array value\n",
    "x2[0,1] = 15\n",
    "print(\"1st row and 2nd column of x2 : \", x2[0,1])\n",
    "\n",
    "# numpy array will truncate decimal values, to retain the initial type\n",
    "x2[0,1] = 25.523\n",
    "print(\"1st row and 2nd column of x2 : \", x2[0,1])\n",
    "\n",
    "## or throw an error if try to insert other datatype\n",
    "\n",
    "print(\"this will thrw ValueError: invalid literal for int() with base 10: 'panakj'\") # x2[0,1] = 'panakj'"
   ]
  },
  {
   "cell_type": "markdown",
   "id": "eec3ac4d",
   "metadata": {},
   "source": [
    "### Array Slicing : accessing subarray\n",
    "\n",
    "1 Access sub array using slice notation x\\[start:stop:step]  \n",
    "\n",
    "  - default to the values start=0, stop=size of dimension, step=1"
   ]
  },
  {
   "cell_type": "code",
   "execution_count": 34,
   "id": "9188316d",
   "metadata": {},
   "outputs": [
    {
     "name": "stdout",
     "output_type": "stream",
     "text": [
      "[5 0 3 3 7 9]\n",
      "[5 0 3 3 7 9]\n",
      "[5 0 3 3 7 9]\n",
      "------------------------------\n",
      "\n",
      "\n",
      "[5 3 7]\n",
      "[9 7 3 3 0 5]\n",
      "[9 3 0]\n",
      "------------------------------\n",
      "\n",
      "\n",
      "[3 3]\n"
     ]
    }
   ],
   "source": [
    "# Access 1-d array\n",
    "print(x1)\n",
    "print(x1[:])\n",
    "print(x1[::])\n",
    "\n",
    "\n",
    "print('-'*30, end='\\n'*3)\n",
    "\n",
    "\n",
    "print(x1[::2]) #print every second item\n",
    "print(x1[::-1]) # reverse the array defaults for start and stop are swapped.\n",
    "print(x1[::-2]) # reverse the array and skipp 1 item\n",
    "\n",
    "\n",
    "print('-'*30, end='\\n'*3)\n",
    "\n",
    "\n",
    "print(x1[2:4])\n"
   ]
  },
  {
   "cell_type": "code",
   "execution_count": 50,
   "id": "a317f155",
   "metadata": {},
   "outputs": [
    {
     "name": "stdout",
     "output_type": "stream",
     "text": [
      "[[ 3  5  2  4]\n",
      " [ 7  6  8  8]\n",
      " [10  1  6  7]]\n",
      "[[ 3  5  2  4]\n",
      " [ 7  6  8  8]\n",
      " [10  1  6  7]]\n",
      "[[ 3  5  2  4]\n",
      " [ 7  6  8  8]\n",
      " [10  1  6  7]]\n",
      "------------------------------\n",
      "\n",
      "\n",
      "6\n",
      "[[8]\n",
      " [6]]\n",
      "[[ 3  2]\n",
      " [10  6]]\n",
      "------------------------------\n",
      "\n",
      "\n",
      "[[10  1  6  7]\n",
      " [ 7  6  8  8]\n",
      " [ 3  5  2  4]]\n",
      "\n",
      "[[ 7  6  1 10]\n",
      " [ 8  8  6  7]\n",
      " [ 4  2  5  3]]\n"
     ]
    }
   ],
   "source": [
    "# access 2-D array\n",
    "print(x2)\n",
    "print(x2[: ,:])\n",
    "print(x2[::, ::])\n",
    "\n",
    "\n",
    "print('-'*30, end='\\n'*3)\n",
    "\n",
    "print(x2[1,1])\n",
    "print(x2[1:3 ,2:3])\n",
    "print(x2[::2, ::2])\n",
    "\n",
    "\n",
    "print('-'*30, end='\\n'*3)\n",
    "\n",
    "print(x2[::-1, ::1] ,end='\\n'*2)\n",
    "print(x2[::-1, ::-1])"
   ]
  },
  {
   "cell_type": "markdown",
   "id": "c916e49a",
   "metadata": {},
   "source": [
    "### Array Copy \n",
    "1. array slices is that they return views rather than copies of the array data. \n",
    "2. This is one area in which NumPy array slicing differs from Python list slicing: in lists, slices will be copies. \n",
    "3. as numpy slice is a view any change in view cause actual array to modify.\n",
    "4. To create copy of an array use np.copy()"
   ]
  },
  {
   "cell_type": "code",
   "execution_count": 59,
   "id": "40b390d1",
   "metadata": {},
   "outputs": [
    {
     "name": "stdout",
     "output_type": "stream",
     "text": [
      "[[ 3  5  2  4]\n",
      " [ 7  6  8  8]\n",
      " [10  1  6  7]]\n",
      "\n",
      "[[5 2]\n",
      " [6 8]]\n",
      "\n",
      "[[5 2]\n",
      " [6 8]]\n",
      "\n",
      "[[  3   5   2   4]\n",
      " [  7   6 100   8]\n",
      " [ 10   1   6   7]]\n",
      "\n"
     ]
    }
   ],
   "source": [
    "# array slice are views\n",
    "\n",
    "print(x2, end='\\n\\n')\n",
    "\n",
    "print(x2[0:2,1:3], end='\\n\\n')\n",
    "\n",
    "x2_slice = x2[0:2,1:3]\n",
    "print(x2_slice , end='\\n\\n')\n",
    "\n",
    "x2_slice[1,1]=100\n",
    "\n",
    "print(x2, end='\\n\\n')"
   ]
  },
  {
   "cell_type": "code",
   "execution_count": 62,
   "id": "65b14511",
   "metadata": {},
   "outputs": [
    {
     "name": "stdout",
     "output_type": "stream",
     "text": [
      "[[  3   5   2   4]\n",
      " [  7   6 100   8]\n",
      " [ 10   1   6   7]]\n",
      "\n",
      "[[500   5   2   4]\n",
      " [  7   6 100   8]\n",
      " [ 10   1   6   7]]\n",
      "\n"
     ]
    }
   ],
   "source": [
    "# array copy is created by copy() method\n",
    "x2_copy = x2.copy()\n",
    "x2_copy[0,0]= 500\n",
    "\n",
    "\n",
    "print(x2, end='\\n\\n')\n",
    "print(x2_copy, end='\\n\\n')"
   ]
  },
  {
   "cell_type": "markdown",
   "id": "2d0ed173",
   "metadata": {},
   "source": [
    "### Reshaping of array\n",
    "1. use reshape() method\n",
    "2. reshape method will use a no-copy view of the initial array, but with non-contiguous memory buffers \n",
    "3. used in transposing , row to column and vice-versa"
   ]
  },
  {
   "cell_type": "code",
   "execution_count": 84,
   "id": "d11aeb27",
   "metadata": {},
   "outputs": [
    {
     "name": "stdout",
     "output_type": "stream",
     "text": [
      "[ 0  1  2  3  4  5  6  7  8  9 10 11]\n",
      "\n",
      "[[ 0  1  2]\n",
      " [ 3  4  5]\n",
      " [ 6  7  8]\n",
      " [ 9 10 11]]\n",
      "\n",
      "[0 1 2 3 4]\n",
      "\n",
      "change row vector to column [[0 1 2 3 4]]\n",
      "\n",
      "change column vector to row [[0]\n",
      " [1]\n",
      " [2]\n",
      " [3]\n",
      " [4]]\n",
      "\n",
      "change row vector to column [[0 1 2 3 4]]\n",
      "\n",
      "change column vector to row [[[0 1 2 3 4]]]\n",
      "\n"
     ]
    }
   ],
   "source": [
    "# reshape\n",
    "\n",
    "x5= np.arange(12)\n",
    "print(x5, end='\\n'*2)\n",
    "\n",
    "\n",
    "x5 = x5.reshape((4,3))\n",
    "print(x5, end='\\n'*2)\n",
    "\n",
    "\n",
    "\n",
    "# Change Row vector to column vector\n",
    "x5 = np.arange(5)\n",
    "print(x5, end='\\n'*2)\n",
    "\n",
    "x5=x5.reshape(1,5)\n",
    "print('change row vector to column', x5 , end='\\n'*2)\n",
    "\n",
    "\n",
    "x5=x5.reshape(5,1)\n",
    "print('change column vector to row', x5, end='\\n'*2)\n",
    "\n",
    "x5 = np.arange(5)\n",
    "\n",
    "x5=x5[np.newaxis,:]\n",
    "print('change row vector to column', x5, end='\\n'*2)\n",
    "\n",
    "\n",
    "x5=x5[np.newaxis,:]\n",
    "print('change column vector to row', x5, end='\\n'*2)"
   ]
  },
  {
   "cell_type": "code",
   "execution_count": 85,
   "id": "e19845a3",
   "metadata": {},
   "outputs": [],
   "source": [
    "### Array Concatanation and splitting\n",
    "1. accomplished using the routines np.concatenate, np.vstack, and np.hstack."
   ]
  },
  {
   "cell_type": "code",
   "execution_count": 87,
   "id": "d78f6a15",
   "metadata": {},
   "outputs": [
    {
     "name": "stdout",
     "output_type": "stream",
     "text": [
      "[ 1  2  3  3  2  1 99 99 99]\n"
     ]
    }
   ],
   "source": [
    "x = np.array([1, 2, 3])\n",
    "y = np.array([3, 2, 1])\n",
    "z = [99, 99, 99]\n",
    "print(np.concatenate([x, y, z]))\n"
   ]
  },
  {
   "cell_type": "code",
   "execution_count": 93,
   "id": "4ce4a150",
   "metadata": {},
   "outputs": [
    {
     "name": "stdout",
     "output_type": "stream",
     "text": [
      "[[1 2 3]\n",
      " [4 5 6]]\n",
      "\n",
      "[[1 2 3]\n",
      " [4 5 6]\n",
      " [1 2 3]\n",
      " [4 5 6]]\n",
      "\n",
      "[[1 2 3 1 2 3]\n",
      " [4 5 6 4 5 6]]\n",
      "\n"
     ]
    }
   ],
   "source": [
    "grid = np.array([[1, 2, 3],\n",
    "                 [4, 5, 6]])\n",
    "print(grid ,end='\\n'*2)\n",
    "print(np.concatenate([grid, grid]),end='\\n'*2)\n",
    "\n",
    "print(np.concatenate([grid, grid], axis=1) ,end='\\n'*2)"
   ]
  },
  {
   "cell_type": "code",
   "execution_count": 94,
   "id": "3213e932",
   "metadata": {},
   "outputs": [
    {
     "data": {
      "text/plain": [
       "array([[1, 2, 3],\n",
       "       [9, 8, 7],\n",
       "       [6, 5, 4]])"
      ]
     },
     "execution_count": 94,
     "metadata": {},
     "output_type": "execute_result"
    }
   ],
   "source": [
    "x = np.array([1, 2, 3])\n",
    "grid = np.array([[9, 8, 7],\n",
    "                 [6, 5, 4]])\n",
    "\n",
    "# vertically stack the arrays\n",
    "np.vstack([x, grid])"
   ]
  },
  {
   "cell_type": "code",
   "execution_count": 95,
   "id": "e683ccb5",
   "metadata": {},
   "outputs": [
    {
     "data": {
      "text/plain": [
       "array([[ 9,  8,  7, 99],\n",
       "       [ 6,  5,  4, 99]])"
      ]
     },
     "execution_count": 95,
     "metadata": {},
     "output_type": "execute_result"
    }
   ],
   "source": [
    "# horizontally stack the arrays\n",
    "y = np.array([[99],\n",
    "              [99]])\n",
    "np.hstack([grid, y])"
   ]
  },
  {
   "cell_type": "markdown",
   "id": "dd03277a",
   "metadata": {},
   "source": [
    "### Splitting of array \n",
    " 1. implemented by the functions np.split, np.hsplit, and np.vsplit\n",
    " 2.np.dsplit will split arrays along the third axis."
   ]
  },
  {
   "cell_type": "code",
   "execution_count": 96,
   "id": "51482103",
   "metadata": {},
   "outputs": [
    {
     "name": "stdout",
     "output_type": "stream",
     "text": [
      "[1 2 3] [99 99] [3 2 1]\n"
     ]
    }
   ],
   "source": [
    "x = [1, 2, 3, 99, 99, 3, 2, 1]\n",
    "x1, x2, x3 = np.split(x, [3, 5])\n",
    "print(x1, x2, x3)"
   ]
  },
  {
   "cell_type": "code",
   "execution_count": 97,
   "id": "7b6b7ca0",
   "metadata": {},
   "outputs": [
    {
     "data": {
      "text/plain": [
       "array([[ 0,  1,  2,  3],\n",
       "       [ 4,  5,  6,  7],\n",
       "       [ 8,  9, 10, 11],\n",
       "       [12, 13, 14, 15]])"
      ]
     },
     "execution_count": 97,
     "metadata": {},
     "output_type": "execute_result"
    }
   ],
   "source": [
    "grid = np.arange(16).reshape((4, 4))\n",
    "grid"
   ]
  },
  {
   "cell_type": "code",
   "execution_count": 98,
   "id": "58f642db",
   "metadata": {},
   "outputs": [
    {
     "name": "stdout",
     "output_type": "stream",
     "text": [
      "[[0 1 2 3]\n",
      " [4 5 6 7]]\n",
      "[[ 8  9 10 11]\n",
      " [12 13 14 15]]\n"
     ]
    }
   ],
   "source": [
    "upper, lower = np.vsplit(grid, [2])\n",
    "print(upper)\n",
    "print(lower)"
   ]
  },
  {
   "cell_type": "code",
   "execution_count": 99,
   "id": "b9fabe04",
   "metadata": {},
   "outputs": [
    {
     "name": "stdout",
     "output_type": "stream",
     "text": [
      "[[ 0  1]\n",
      " [ 4  5]\n",
      " [ 8  9]\n",
      " [12 13]]\n",
      "[[ 2  3]\n",
      " [ 6  7]\n",
      " [10 11]\n",
      " [14 15]]\n"
     ]
    }
   ],
   "source": [
    "left, right = np.hsplit(grid, [2])\n",
    "print(left)\n",
    "print(right)"
   ]
  },
  {
   "cell_type": "code",
   "execution_count": null,
   "id": "b777a1c9",
   "metadata": {},
   "outputs": [],
   "source": []
  }
 ],
 "metadata": {
  "kernelspec": {
   "display_name": "Python 3",
   "language": "python",
   "name": "python3"
  },
  "language_info": {
   "codemirror_mode": {
    "name": "ipython",
    "version": 3
   },
   "file_extension": ".py",
   "mimetype": "text/x-python",
   "name": "python",
   "nbconvert_exporter": "python",
   "pygments_lexer": "ipython3",
   "version": "3.8.8"
  }
 },
 "nbformat": 4,
 "nbformat_minor": 5
}
