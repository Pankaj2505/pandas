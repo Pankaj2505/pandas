{
 "cells": [
  {
   "cell_type": "markdown",
   "id": "da999446",
   "metadata": {},
   "source": [
    "---\n",
    "layout: post\n",
    "title:  \"Basics of panda\"\n",
    "categories: panda\n",
    "background: '/img/posts/panda/cheetSheet.png'\n",
    "---\n"
   ]
  },
  {
   "cell_type": "markdown",
   "id": "c58b8746",
   "metadata": {},
   "source": [
    "\n",
    "[Taken reference from ](https://jakevdp.github.io/PythonDataScienceHandbook/)\n",
    "<br>\n",
    "<a href=\"\\img\\posts\\numpy\\cheetSheet.pdf\" download>Download CheetSheet</a>\n",
    "\n"
   ]
  },
  {
   "cell_type": "markdown",
   "id": "e941251c",
   "metadata": {},
   "source": [
    "- To display all the content of pandas documantation - pd.<tab>\n",
    "- pandas can be thought enhanced version of numpy \n",
    "- Three pandas data structure\n",
    "    - series\n",
    "    - data frame\n",
    "    - index"
   ]
  },
  {
   "cell_type": "markdown",
   "id": "06748a17",
   "metadata": {},
   "source": [
    "## Series\n",
    "- Series is one dimensional index array\n",
    "\n",
    "- difference between np array and panda series\n",
    "    - the difference is of index, np has implicit index always in integer . while series can have user defined index.\n",
    "    \n",
    "- Series is like dictionary \n",
    "    as dictionary has key value pair , panda series has index value pair\n",
    "    \n",
    "- syntax\n",
    "    - pd.Series(data, index=index)\n"
   ]
  },
  {
   "cell_type": "code",
   "execution_count": 2,
   "id": "867f4937",
   "metadata": {},
   "outputs": [
    {
     "name": "stdout",
     "output_type": "stream",
     "text": [
      "0    0.406032\n",
      "1    0.624459\n",
      "2    0.007502\n",
      "3    0.936336\n",
      "4    0.252379\n",
      "5    0.923622\n",
      "6    0.124826\n",
      "7    0.113890\n",
      "8    0.133474\n",
      "9    0.230855\n",
      "dtype: float64\n",
      "<class 'pandas.core.series.Series'>\n"
     ]
    }
   ],
   "source": [
    "import pandas as pd\n",
    "import numpy as np\n",
    "\n",
    "a = pd.Series(np.random.random(10))\n",
    "print(a)\n",
    "print(type(a))"
   ]
  },
  {
   "cell_type": "code",
   "execution_count": 13,
   "id": "36d52457",
   "metadata": {},
   "outputs": [
    {
     "name": "stdout",
     "output_type": "stream",
     "text": [
      "value of a series \n",
      " [0.40603196 0.62445928 0.00750161 0.93633593 0.252379   0.92362216\n",
      " 0.12482607 0.11388989 0.13347449 0.23085467]\n",
      "\n",
      "\n",
      "\n",
      "\n",
      "\n",
      "index of a series \n",
      " RangeIndex(start=0, stop=10, step=1)\n",
      "\n",
      "\n",
      "\n",
      "\n",
      "\n",
      "access data using index \n",
      " 0.25237899832603883\n",
      "\n",
      "\n",
      "\n",
      "\n",
      "\n",
      "data slicing \n",
      " 0    0.406032\n",
      "1    0.624459\n",
      "2    0.007502\n",
      "3    0.936336\n",
      "dtype: float64\n"
     ]
    }
   ],
   "source": [
    "# how to check value of a series\n",
    "print('value of a series \\n', a.values)\n",
    "\n",
    "print(\"\\n\"*4)\n",
    "\n",
    "# check index of a series\n",
    "print('index of a series \\n',a.index)\n",
    "\n",
    "\n",
    "print(\"\\n\"*4)\n",
    "\n",
    "# accessing data using index\n",
    "print('access data using index \\n',a[4])\n",
    "\n",
    "\n",
    "print(\"\\n\"*4)\n",
    "\n",
    "# data slicing\n",
    "print('data slicing \\n',a[:4])"
   ]
  },
  {
   "cell_type": "code",
   "execution_count": 14,
   "id": "279dbc2d",
   "metadata": {},
   "outputs": [
    {
     "data": {
      "text/plain": [
       "a    0.25\n",
       "b    0.50\n",
       "c    0.75\n",
       "d    1.00\n",
       "dtype: float64"
      ]
     },
     "execution_count": 14,
     "metadata": {},
     "output_type": "execute_result"
    }
   ],
   "source": [
    "# user defind index\n",
    "data = pd.Series([0.25, 0.5, 0.75, 1.0],\n",
    "                 index=['a', 'b', 'c', 'd'])\n",
    "print(data)\n",
    "\n",
    "\n",
    "# a panda series is more like dictionary\n",
    "\n",
    "population_dict = {'California': 38332521,\n",
    "                   'Texas': 26448193,\n",
    "                   'New York': 19651127,\n",
    "                   'Florida': 19552860,\n",
    "                   'Illinois': 12882135}\n",
    "population = pd.Series(population_dict)\n",
    "print(population)\n",
    "\n",
    "\n"
   ]
  },
  {
   "cell_type": "markdown",
   "id": "2daea961",
   "metadata": {},
   "source": [
    "# Dataframe\n",
    "- If a Series is an analog of a one-dimensional array with flexible indices,\n",
    "- DataFrame as a sequence of aligned Series objects. Here, by \"aligned\" we mean that they share the same index."
   ]
  },
  {
   "cell_type": "code",
   "execution_count": 19,
   "id": "7c8e23f6",
   "metadata": {},
   "outputs": [
    {
     "name": "stdout",
     "output_type": "stream",
     "text": [
      "   population\n",
      "0           2\n",
      "1           3\n",
      "2           7\n",
      "3           1\n",
      "4           4\n"
     ]
    }
   ],
   "source": [
    "#COnstruction from single series object \n",
    "population = pd.Series(np.random.randint(10, size = 5))\n",
    "print(pd.DataFrame(population, columns=['population']))"
   ]
  },
  {
   "cell_type": "code",
   "execution_count": 22,
   "id": "4252beee",
   "metadata": {},
   "outputs": [
    {
     "name": "stdout",
     "output_type": "stream",
     "text": [
      "[1 0]\n"
     ]
    }
   ],
   "source": [
    "# Construction of series using two dimensional array \n",
    "\n",
    "arr= np.random.randint((3,2))\n",
    "print(arr)"
   ]
  },
  {
   "cell_type": "code",
   "execution_count": null,
   "id": "d54c566b",
   "metadata": {},
   "outputs": [],
   "source": []
  }
 ],
 "metadata": {
  "kernelspec": {
   "display_name": "Python 3",
   "language": "python",
   "name": "python3"
  },
  "language_info": {
   "codemirror_mode": {
    "name": "ipython",
    "version": 3
   },
   "file_extension": ".py",
   "mimetype": "text/x-python",
   "name": "python",
   "nbconvert_exporter": "python",
   "pygments_lexer": "ipython3",
   "version": "3.8.8"
  }
 },
 "nbformat": 4,
 "nbformat_minor": 5
}
